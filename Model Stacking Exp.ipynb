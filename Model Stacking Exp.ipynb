{
 "cells": [
  {
   "cell_type": "markdown",
   "id": "d12bb345",
   "metadata": {},
   "source": [
    "https://towardsdatascience.com/simple-model-stacking-explained-and-automated-1b54e4357916"
   ]
  },
  {
   "cell_type": "code",
   "execution_count": 1,
   "id": "26a563fd",
   "metadata": {},
   "outputs": [],
   "source": [
    "from sklearn.linear_model import LinearRegression, Ridge\n",
    "from sklearn.svm import SVR\n",
    "from sklearn.neighbors import KNeighborsRegressor\n",
    "import xgboost as xgb\n",
    "\n",
    "randomstate =42\n",
    "\n",
    "# svr = SVR(gamma = 'scale', kernel = 'linear', C=10, epsilon=.05)\n",
    "ridge = Ridge(random_state = randomstate, tol=1e-3, solver='auto')\n",
    "neighbor = KNeighborsRegressor(n_neighbors = 11)\n",
    "linreg = LinearRegression()\n",
    "xgbr = xgb.XGBRegressor(n_estimators=1000, eval_metric='mae', max_depth = 7,eta = .1, min_child_weight = 5, \n",
    "                        colsample_bytree = .4, reg_lambda = 50)"
   ]
  },
  {
   "cell_type": "code",
   "execution_count": 2,
   "id": "43adc262",
   "metadata": {},
   "outputs": [],
   "source": [
    "# svr_yhat, ridge_yhat, neighbor_yhat, linreg_yhat, xgbr_yhat = [], [], [], [], []\n",
    "\n",
    "ridge_yhat, neighbor_yhat, linreg_yhat, xgbr_yhat = [], [], [], []"
   ]
  },
  {
   "cell_type": "code",
   "execution_count": 3,
   "id": "3ce82fa3",
   "metadata": {},
   "outputs": [],
   "source": [
    "# models_dict = {'SVR' : [svr, svr_yhat], \n",
    "#                 'Ridge' : [ridge, ridge_yhat],  \n",
    "#                 'KNN' : [neighbor, neighbor_yhat], \n",
    "#                 'Linear Regression' : [linreg, linreg_yhat], \n",
    "#                 'XGB' : [xgbr, xgbr_yhat]}\n",
    "\n",
    "\n",
    "models_dict = {'Ridge' : [ridge, ridge_yhat],  \n",
    "                'KNN' : [neighbor, neighbor_yhat], \n",
    "                'Linear Regression' : [linreg, linreg_yhat], \n",
    "                'XGB' : [xgbr, xgbr_yhat]}"
   ]
  },
  {
   "cell_type": "code",
   "execution_count": 4,
   "id": "5605fe36",
   "metadata": {},
   "outputs": [],
   "source": [
    "from sklearn.model_selection import KFold\n",
    "def train_oof_predictions(x, y, models, verbose=True):\n",
    "    '''Function to perform Out-Of-Fold predictions on train data\n",
    "    returns re-ordered predictors x, re-ordered target y, and model dictionary with filled predictors\n",
    "    Parameters:\n",
    "    x: training predictors\n",
    "    y: training targets\n",
    "    models: dictionary of models in form of model name : [instantiated model, predictors list]\n",
    "    verbose: if True, prints status update as the function works\n",
    "    '''\n",
    "    \n",
    "    # instantiate a KFold with 10 splits\n",
    "    kfold = KFold(n_splits=10, shuffle=True, random_state=randomstate)\n",
    "    \n",
    "    # prepare lists to hold the re-ordered x and y values\n",
    "    data_x, data_y  = [], []\n",
    "    \n",
    "    # run the following block for each of the 10 kfold splits\n",
    "    for train_ix, test_ix in kfold.split(x, y):\n",
    "    \n",
    "        if verbose: print(\"\\nStarting a new fold\\n\")\n",
    "    \n",
    "        if verbose: print(\"Creating splits\")\n",
    "        #create this fold's training and test sets\n",
    "        train_X, test_X = x[train_ix], x[test_ix] \n",
    "        train_y, test_y = y[train_ix], y[test_ix]\n",
    "    \n",
    "        if verbose: print(\"Adding x and y to lists\\n\")\n",
    "        # add the data that is used in this fold to the re-ordered lists\n",
    "        data_x.extend(test_X)\n",
    "        data_y.extend(test_y)\n",
    "    \n",
    "        # run each model on this kfold and add the predictors to the model's running predictors list\n",
    "        for item in models:\n",
    "            \n",
    "            label = item # get label for reporting purposes\n",
    "            model = models[item][0] # get the model to use on the kfold\n",
    "        \n",
    "            # fit and make predictions \n",
    "            if verbose: print(\"Running\",label,\"on this fold\")\n",
    "            model.fit(train_X, train_y) # fit to the train set for the kfold\n",
    "            predictions = model.predict(test_X) # fit on the out-of-fold set\n",
    "            models[item][1].extend(predictions) # add predictions to the model's running predictors list\n",
    "    \n",
    "    return data_x, data_y, models"
   ]
  },
  {
   "cell_type": "code",
   "execution_count": 5,
   "id": "6b6c3384",
   "metadata": {},
   "outputs": [
    {
     "data": {
      "text/html": [
       "<div>\n",
       "<style scoped>\n",
       "    .dataframe tbody tr th:only-of-type {\n",
       "        vertical-align: middle;\n",
       "    }\n",
       "\n",
       "    .dataframe tbody tr th {\n",
       "        vertical-align: top;\n",
       "    }\n",
       "\n",
       "    .dataframe thead th {\n",
       "        text-align: right;\n",
       "    }\n",
       "</style>\n",
       "<table border=\"1\" class=\"dataframe\">\n",
       "  <thead>\n",
       "    <tr style=\"text-align: right;\">\n",
       "      <th></th>\n",
       "      <th>id</th>\n",
       "      <th>date</th>\n",
       "      <th>price</th>\n",
       "      <th>bedrooms</th>\n",
       "      <th>bathrooms</th>\n",
       "      <th>sqft_living</th>\n",
       "      <th>sqft_lot</th>\n",
       "      <th>floors</th>\n",
       "      <th>waterfront</th>\n",
       "      <th>view</th>\n",
       "      <th>...</th>\n",
       "      <th>grade</th>\n",
       "      <th>sqft_above</th>\n",
       "      <th>sqft_basement</th>\n",
       "      <th>yr_built</th>\n",
       "      <th>yr_renovated</th>\n",
       "      <th>zipcode</th>\n",
       "      <th>lat</th>\n",
       "      <th>long</th>\n",
       "      <th>sqft_living15</th>\n",
       "      <th>sqft_lot15</th>\n",
       "    </tr>\n",
       "  </thead>\n",
       "  <tbody>\n",
       "    <tr>\n",
       "      <th>0</th>\n",
       "      <td>7129300520</td>\n",
       "      <td>20141013T000000</td>\n",
       "      <td>221900.0</td>\n",
       "      <td>3</td>\n",
       "      <td>1.00</td>\n",
       "      <td>1180</td>\n",
       "      <td>5650</td>\n",
       "      <td>1.0</td>\n",
       "      <td>0</td>\n",
       "      <td>0</td>\n",
       "      <td>...</td>\n",
       "      <td>7</td>\n",
       "      <td>1180</td>\n",
       "      <td>0</td>\n",
       "      <td>1955</td>\n",
       "      <td>0</td>\n",
       "      <td>98178</td>\n",
       "      <td>47.5112</td>\n",
       "      <td>-122.257</td>\n",
       "      <td>1340</td>\n",
       "      <td>5650</td>\n",
       "    </tr>\n",
       "    <tr>\n",
       "      <th>1</th>\n",
       "      <td>6414100192</td>\n",
       "      <td>20141209T000000</td>\n",
       "      <td>538000.0</td>\n",
       "      <td>3</td>\n",
       "      <td>2.25</td>\n",
       "      <td>2570</td>\n",
       "      <td>7242</td>\n",
       "      <td>2.0</td>\n",
       "      <td>0</td>\n",
       "      <td>0</td>\n",
       "      <td>...</td>\n",
       "      <td>7</td>\n",
       "      <td>2170</td>\n",
       "      <td>400</td>\n",
       "      <td>1951</td>\n",
       "      <td>1991</td>\n",
       "      <td>98125</td>\n",
       "      <td>47.7210</td>\n",
       "      <td>-122.319</td>\n",
       "      <td>1690</td>\n",
       "      <td>7639</td>\n",
       "    </tr>\n",
       "    <tr>\n",
       "      <th>2</th>\n",
       "      <td>5631500400</td>\n",
       "      <td>20150225T000000</td>\n",
       "      <td>180000.0</td>\n",
       "      <td>2</td>\n",
       "      <td>1.00</td>\n",
       "      <td>770</td>\n",
       "      <td>10000</td>\n",
       "      <td>1.0</td>\n",
       "      <td>0</td>\n",
       "      <td>0</td>\n",
       "      <td>...</td>\n",
       "      <td>6</td>\n",
       "      <td>770</td>\n",
       "      <td>0</td>\n",
       "      <td>1933</td>\n",
       "      <td>0</td>\n",
       "      <td>98028</td>\n",
       "      <td>47.7379</td>\n",
       "      <td>-122.233</td>\n",
       "      <td>2720</td>\n",
       "      <td>8062</td>\n",
       "    </tr>\n",
       "    <tr>\n",
       "      <th>3</th>\n",
       "      <td>2487200875</td>\n",
       "      <td>20141209T000000</td>\n",
       "      <td>604000.0</td>\n",
       "      <td>4</td>\n",
       "      <td>3.00</td>\n",
       "      <td>1960</td>\n",
       "      <td>5000</td>\n",
       "      <td>1.0</td>\n",
       "      <td>0</td>\n",
       "      <td>0</td>\n",
       "      <td>...</td>\n",
       "      <td>7</td>\n",
       "      <td>1050</td>\n",
       "      <td>910</td>\n",
       "      <td>1965</td>\n",
       "      <td>0</td>\n",
       "      <td>98136</td>\n",
       "      <td>47.5208</td>\n",
       "      <td>-122.393</td>\n",
       "      <td>1360</td>\n",
       "      <td>5000</td>\n",
       "    </tr>\n",
       "    <tr>\n",
       "      <th>4</th>\n",
       "      <td>1954400510</td>\n",
       "      <td>20150218T000000</td>\n",
       "      <td>510000.0</td>\n",
       "      <td>3</td>\n",
       "      <td>2.00</td>\n",
       "      <td>1680</td>\n",
       "      <td>8080</td>\n",
       "      <td>1.0</td>\n",
       "      <td>0</td>\n",
       "      <td>0</td>\n",
       "      <td>...</td>\n",
       "      <td>8</td>\n",
       "      <td>1680</td>\n",
       "      <td>0</td>\n",
       "      <td>1987</td>\n",
       "      <td>0</td>\n",
       "      <td>98074</td>\n",
       "      <td>47.6168</td>\n",
       "      <td>-122.045</td>\n",
       "      <td>1800</td>\n",
       "      <td>7503</td>\n",
       "    </tr>\n",
       "  </tbody>\n",
       "</table>\n",
       "<p>5 rows × 21 columns</p>\n",
       "</div>"
      ],
      "text/plain": [
       "           id             date     price  bedrooms  bathrooms  sqft_living  \\\n",
       "0  7129300520  20141013T000000  221900.0         3       1.00         1180   \n",
       "1  6414100192  20141209T000000  538000.0         3       2.25         2570   \n",
       "2  5631500400  20150225T000000  180000.0         2       1.00          770   \n",
       "3  2487200875  20141209T000000  604000.0         4       3.00         1960   \n",
       "4  1954400510  20150218T000000  510000.0         3       2.00         1680   \n",
       "\n",
       "   sqft_lot  floors  waterfront  view  ...  grade  sqft_above  sqft_basement  \\\n",
       "0      5650     1.0           0     0  ...      7        1180              0   \n",
       "1      7242     2.0           0     0  ...      7        2170            400   \n",
       "2     10000     1.0           0     0  ...      6         770              0   \n",
       "3      5000     1.0           0     0  ...      7        1050            910   \n",
       "4      8080     1.0           0     0  ...      8        1680              0   \n",
       "\n",
       "   yr_built  yr_renovated  zipcode      lat     long  sqft_living15  \\\n",
       "0      1955             0    98178  47.5112 -122.257           1340   \n",
       "1      1951          1991    98125  47.7210 -122.319           1690   \n",
       "2      1933             0    98028  47.7379 -122.233           2720   \n",
       "3      1965             0    98136  47.5208 -122.393           1360   \n",
       "4      1987             0    98074  47.6168 -122.045           1800   \n",
       "\n",
       "   sqft_lot15  \n",
       "0        5650  \n",
       "1        7639  \n",
       "2        8062  \n",
       "3        5000  \n",
       "4        7503  \n",
       "\n",
       "[5 rows x 21 columns]"
      ]
     },
     "execution_count": 5,
     "metadata": {},
     "output_type": "execute_result"
    }
   ],
   "source": [
    "import numpy as np\n",
    "import pandas as pd\n",
    "df = pd.read_csv('kc_house_data.csv')\n",
    "df.head()"
   ]
  },
  {
   "cell_type": "code",
   "execution_count": 6,
   "id": "4d309a1a",
   "metadata": {},
   "outputs": [],
   "source": [
    "df_cols = list(df.columns)\n",
    "x_cols = df_cols[3:]\n",
    "\n",
    "X = df[x_cols]\n",
    "y = df.price"
   ]
  },
  {
   "cell_type": "code",
   "execution_count": 7,
   "id": "fe08703e",
   "metadata": {},
   "outputs": [],
   "source": [
    "from sklearn.model_selection import train_test_split\n",
    "X_train, X_test, y_train, y_test = train_test_split(X, y, test_size=0.33, random_state=42)"
   ]
  },
  {
   "cell_type": "code",
   "execution_count": 8,
   "id": "37f73da6",
   "metadata": {},
   "outputs": [],
   "source": [
    "X_train = np.array(X_train)\n",
    "X_test = np.array(X_test)\n",
    "y_train = np.array(y_train)\n",
    "y_test = np.array(y_test)"
   ]
  },
  {
   "cell_type": "code",
   "execution_count": 9,
   "id": "8cbf62cf",
   "metadata": {},
   "outputs": [
    {
     "data": {
      "text/plain": [
       "((14480, 18), (14480,))"
      ]
     },
     "execution_count": 9,
     "metadata": {},
     "output_type": "execute_result"
    }
   ],
   "source": [
    "X_train.shape, y_train.shape"
   ]
  },
  {
   "cell_type": "code",
   "execution_count": 10,
   "id": "a85990b3",
   "metadata": {
    "scrolled": true
   },
   "outputs": [
    {
     "name": "stdout",
     "output_type": "stream",
     "text": [
      "\n",
      "Starting a new fold\n",
      "\n",
      "Creating splits\n",
      "Adding x and y to lists\n",
      "\n",
      "Running Ridge on this fold\n",
      "Running KNN on this fold\n",
      "Running Linear Regression on this fold\n",
      "Running XGB on this fold\n",
      "\n",
      "Starting a new fold\n",
      "\n",
      "Creating splits\n",
      "Adding x and y to lists\n",
      "\n",
      "Running Ridge on this fold\n",
      "Running KNN on this fold\n",
      "Running Linear Regression on this fold\n",
      "Running XGB on this fold\n",
      "\n",
      "Starting a new fold\n",
      "\n",
      "Creating splits\n",
      "Adding x and y to lists\n",
      "\n",
      "Running Ridge on this fold\n",
      "Running KNN on this fold\n",
      "Running Linear Regression on this fold\n",
      "Running XGB on this fold\n",
      "\n",
      "Starting a new fold\n",
      "\n",
      "Creating splits\n",
      "Adding x and y to lists\n",
      "\n",
      "Running Ridge on this fold\n",
      "Running KNN on this fold\n",
      "Running Linear Regression on this fold\n",
      "Running XGB on this fold\n",
      "\n",
      "Starting a new fold\n",
      "\n",
      "Creating splits\n",
      "Adding x and y to lists\n",
      "\n",
      "Running Ridge on this fold\n",
      "Running KNN on this fold\n",
      "Running Linear Regression on this fold\n",
      "Running XGB on this fold\n",
      "\n",
      "Starting a new fold\n",
      "\n",
      "Creating splits\n",
      "Adding x and y to lists\n",
      "\n",
      "Running Ridge on this fold\n",
      "Running KNN on this fold\n",
      "Running Linear Regression on this fold\n",
      "Running XGB on this fold\n",
      "\n",
      "Starting a new fold\n",
      "\n",
      "Creating splits\n",
      "Adding x and y to lists\n",
      "\n",
      "Running Ridge on this fold\n",
      "Running KNN on this fold\n",
      "Running Linear Regression on this fold\n",
      "Running XGB on this fold\n",
      "\n",
      "Starting a new fold\n",
      "\n",
      "Creating splits\n",
      "Adding x and y to lists\n",
      "\n",
      "Running Ridge on this fold\n",
      "Running KNN on this fold\n",
      "Running Linear Regression on this fold\n",
      "Running XGB on this fold\n",
      "\n",
      "Starting a new fold\n",
      "\n",
      "Creating splits\n",
      "Adding x and y to lists\n",
      "\n",
      "Running Ridge on this fold\n",
      "Running KNN on this fold\n",
      "Running Linear Regression on this fold\n",
      "Running XGB on this fold\n",
      "\n",
      "Starting a new fold\n",
      "\n",
      "Creating splits\n",
      "Adding x and y to lists\n",
      "\n",
      "Running Ridge on this fold\n",
      "Running KNN on this fold\n",
      "Running Linear Regression on this fold\n",
      "Running XGB on this fold\n"
     ]
    }
   ],
   "source": [
    "data_x, data_y, trained_models = train_oof_predictions(X_train, y_train, models_dict)"
   ]
  },
  {
   "cell_type": "code",
   "execution_count": 11,
   "id": "e51abe74",
   "metadata": {},
   "outputs": [
    {
     "data": {
      "text/plain": [
       "(14480, 14480)"
      ]
     },
     "execution_count": 11,
     "metadata": {},
     "output_type": "execute_result"
    }
   ],
   "source": [
    "len(data_x), len(data_y)"
   ]
  },
  {
   "cell_type": "code",
   "execution_count": 14,
   "id": "3492d9be",
   "metadata": {},
   "outputs": [
    {
     "data": {
      "text/plain": [
       "14480"
      ]
     },
     "execution_count": 14,
     "metadata": {},
     "output_type": "execute_result"
    }
   ],
   "source": [
    "len(trained_models['Ridge'][1])"
   ]
  },
  {
   "cell_type": "code",
   "execution_count": 15,
   "id": "8d296b5b",
   "metadata": {},
   "outputs": [],
   "source": [
    "from sklearn.model_selection import cross_validate\n",
    "def model_selector(X, y, meta_model, models_dict, model_label, verbose=True):\n",
    "    \n",
    "    \"\"\" \n",
    "    Perform a forward model selection based on MAE improvement\n",
    "    Parameters:\n",
    "        X - baseline X_train with all features\n",
    "        y - baseline y_train with all targets\n",
    "        meta_model - meta_model to be trained\n",
    "        models_dict - dictionary of models in format of model name : [model object, out-of-fold predictions]\n",
    "        label - the label for the current meta model\n",
    "        verbose - whether to print the sequence of inclusions(True recommended)\n",
    "    Returns: list of selected models, best MAE \n",
    "    \"\"\"\n",
    "    print(\"\\n\\nRunning model selector for \", model_label)\n",
    "    included_models = []\n",
    "     \n",
    "    while True:\n",
    "        changed=False\n",
    "        \n",
    "        # forward step\n",
    "        \n",
    "        if verbose: print(\"\\nNEW ROUND - Setting up score charts\")\n",
    "        excluded_models = list(set(models_dict.keys())-set(included_models)) # make a list of the current excluded_models\n",
    "        if verbose: print(\"Included models: {}\".format(included_models))\n",
    "        if verbose: print(\"Exluded models: {}\".format(excluded_models))\n",
    "        new_mae = pd.Series(index=excluded_models) # make a series where the index is the current excluded_models\n",
    "        \n",
    "        current_meta_x = np.array(X)\n",
    "        \n",
    "        if len(included_models) > 0:\n",
    "            for included in included_models:\n",
    "                included = np.array(models_dict[included][1]).reshape((len(models_dict[included][1]), 1))\n",
    "                current_meta_x = np.hstack((current_meta_x, included))\n",
    "# score the current model\n",
    "        scores = cross_validate(meta_model, current_meta_x, y, cv=5, n_jobs=-1, scoring=('neg_mean_absolute_error'))\n",
    "        starting_mae = round(scores['test_score'].mean(),3)\n",
    "        if verbose: print(\"Starting mae: {}\\n\".format(starting_mae))\n",
    "        \n",
    "       \n",
    "        for excluded in excluded_models:  # for each item in the excluded_models list:\n",
    "            \n",
    "            new_yhat = np.array(models_dict[excluded][1]).reshape(-1, 1) # get the current item's predictions\n",
    "            meta_x = np.hstack((current_meta_x, new_yhat)) # add the predictions to the meta set\n",
    "            \n",
    "            # score the current item\n",
    "            scores = cross_validate(meta_model, meta_x, y, cv=5, n_jobs=-1, scoring=('neg_mean_absolute_error'))\n",
    "            mae = round(scores['test_score'].mean(),3)\n",
    "            if verbose: print(\"{} score: {}\".format(excluded, mae))\n",
    "            \n",
    "            new_mae[excluded] = mae # append the mae to the series field\n",
    "        \n",
    "        best_mae = new_mae.max() # evaluate best mae of the excluded_models in this round\n",
    "        if verbose: print(\"Best mae: {}\\n\".format(best_mae))\n",
    "        \n",
    "        if best_mae > starting_mae:  # if the best mae is better than the initial mae\n",
    "            best_feature = new_mae.idxmax()  # define this as the new best feature\n",
    "            included_models.append(str(best_feature)) # append this model name to the included list\n",
    "            changed=True # flag that we changed it\n",
    "            if verbose: print('Add  {} with mae {}\\n'.format(best_feature, best_mae))\n",
    "        else: changed = False\n",
    "        \n",
    "        if not changed:\n",
    "            break\n",
    "            \n",
    "    print(model_label, \"model optimized\")\n",
    "    print('resulting models:', included_models)\n",
    "    print('MAE:', starting_mae)\n",
    "    \n",
    "    return included_models, starting_mae"
   ]
  },
  {
   "cell_type": "code",
   "execution_count": 16,
   "id": "05fe4100",
   "metadata": {},
   "outputs": [
    {
     "name": "stdout",
     "output_type": "stream",
     "text": [
      "\n",
      "\n",
      "Running model selector for  Ridge\n",
      "\n",
      "NEW ROUND - Setting up score charts\n",
      "Included models: []\n",
      "Exluded models: ['XGB', 'KNN', 'Ridge', 'Linear Regression']\n"
     ]
    },
    {
     "name": "stderr",
     "output_type": "stream",
     "text": [
      "C:\\Users\\Gang\\AppData\\Local\\Temp\\ipykernel_7688\\2775006806.py:27: FutureWarning: The default dtype for empty Series will be 'object' instead of 'float64' in a future version. Specify a dtype explicitly to silence this warning.\n",
      "  new_mae = pd.Series(index=excluded_models) # make a series where the index is the current excluded_models\n"
     ]
    },
    {
     "name": "stdout",
     "output_type": "stream",
     "text": [
      "Starting mae: -124169.423\n",
      "\n",
      "XGB score: -64433.946\n",
      "KNN score: -119485.059\n",
      "Ridge score: -123794.234\n",
      "Linear Regression score: -123797.774\n",
      "Best mae: -64433.946\n",
      "\n",
      "Add  XGB with mae -64433.946\n",
      "\n",
      "\n",
      "NEW ROUND - Setting up score charts\n",
      "Included models: ['XGB']\n",
      "Exluded models: ['KNN', 'Ridge', 'Linear Regression']\n"
     ]
    },
    {
     "name": "stderr",
     "output_type": "stream",
     "text": [
      "C:\\Users\\Gang\\AppData\\Local\\Temp\\ipykernel_7688\\2775006806.py:27: FutureWarning: The default dtype for empty Series will be 'object' instead of 'float64' in a future version. Specify a dtype explicitly to silence this warning.\n",
      "  new_mae = pd.Series(index=excluded_models) # make a series where the index is the current excluded_models\n"
     ]
    },
    {
     "name": "stdout",
     "output_type": "stream",
     "text": [
      "Starting mae: -64433.946\n",
      "\n",
      "KNN score: -64450.187\n",
      "Ridge score: -64370.612\n",
      "Linear Regression score: -64370.858\n",
      "Best mae: -64370.612\n",
      "\n",
      "Add  Ridge with mae -64370.612\n",
      "\n",
      "\n",
      "NEW ROUND - Setting up score charts\n",
      "Included models: ['XGB', 'Ridge']\n",
      "Exluded models: ['KNN', 'Linear Regression']\n"
     ]
    },
    {
     "name": "stderr",
     "output_type": "stream",
     "text": [
      "C:\\Users\\Gang\\AppData\\Local\\Temp\\ipykernel_7688\\2775006806.py:27: FutureWarning: The default dtype for empty Series will be 'object' instead of 'float64' in a future version. Specify a dtype explicitly to silence this warning.\n",
      "  new_mae = pd.Series(index=excluded_models) # make a series where the index is the current excluded_models\n"
     ]
    },
    {
     "name": "stdout",
     "output_type": "stream",
     "text": [
      "Starting mae: -64370.612\n",
      "\n",
      "KNN score: -64387.58\n",
      "Linear Regression score: -64484.397\n",
      "Best mae: -64387.58\n",
      "\n",
      "Ridge model optimized\n",
      "resulting models: ['XGB', 'Ridge']\n",
      "MAE: -64370.612\n",
      "\n",
      "\n",
      "Running model selector for  KNN\n",
      "\n",
      "NEW ROUND - Setting up score charts\n",
      "Included models: []\n",
      "Exluded models: ['XGB', 'KNN', 'Ridge', 'Linear Regression']\n"
     ]
    },
    {
     "name": "stderr",
     "output_type": "stream",
     "text": [
      "C:\\Users\\Gang\\AppData\\Local\\Temp\\ipykernel_7688\\2775006806.py:27: FutureWarning: The default dtype for empty Series will be 'object' instead of 'float64' in a future version. Specify a dtype explicitly to silence this warning.\n",
      "  new_mae = pd.Series(index=excluded_models) # make a series where the index is the current excluded_models\n"
     ]
    },
    {
     "name": "stdout",
     "output_type": "stream",
     "text": [
      "Starting mae: -154433.867\n",
      "\n",
      "XGB score: -67353.509\n",
      "KNN score: -160385.572\n",
      "Ridge score: -112965.726\n",
      "Linear Regression score: -113078.278\n",
      "Best mae: -67353.509\n",
      "\n",
      "Add  XGB with mae -67353.509\n",
      "\n",
      "\n",
      "NEW ROUND - Setting up score charts\n",
      "Included models: ['XGB']\n",
      "Exluded models: ['KNN', 'Ridge', 'Linear Regression']\n"
     ]
    },
    {
     "name": "stderr",
     "output_type": "stream",
     "text": [
      "C:\\Users\\Gang\\AppData\\Local\\Temp\\ipykernel_7688\\2775006806.py:27: FutureWarning: The default dtype for empty Series will be 'object' instead of 'float64' in a future version. Specify a dtype explicitly to silence this warning.\n",
      "  new_mae = pd.Series(index=excluded_models) # make a series where the index is the current excluded_models\n"
     ]
    },
    {
     "name": "stdout",
     "output_type": "stream",
     "text": [
      "Starting mae: -67353.509\n",
      "\n",
      "KNN score: -67626.213\n",
      "Ridge score: -67442.159\n",
      "Linear Regression score: -67453.334\n",
      "Best mae: -67442.159\n",
      "\n",
      "KNN model optimized\n",
      "resulting models: ['XGB']\n",
      "MAE: -67353.509\n",
      "\n",
      "\n",
      "Running model selector for  Linear Regression\n",
      "\n",
      "NEW ROUND - Setting up score charts\n",
      "Included models: []\n",
      "Exluded models: ['XGB', 'KNN', 'Ridge', 'Linear Regression']\n"
     ]
    },
    {
     "name": "stderr",
     "output_type": "stream",
     "text": [
      "C:\\Users\\Gang\\AppData\\Local\\Temp\\ipykernel_7688\\2775006806.py:27: FutureWarning: The default dtype for empty Series will be 'object' instead of 'float64' in a future version. Specify a dtype explicitly to silence this warning.\n",
      "  new_mae = pd.Series(index=excluded_models) # make a series where the index is the current excluded_models\n"
     ]
    },
    {
     "name": "stdout",
     "output_type": "stream",
     "text": [
      "Starting mae: -124198.632\n",
      "\n",
      "XGB score: -64433.445\n",
      "KNN score: -119512.664\n",
      "Ridge score: -123994.427\n",
      "Linear Regression score: -123985.853\n",
      "Best mae: -64433.445\n",
      "\n",
      "Add  XGB with mae -64433.445\n",
      "\n",
      "\n",
      "NEW ROUND - Setting up score charts\n",
      "Included models: ['XGB']\n",
      "Exluded models: ['KNN', 'Ridge', 'Linear Regression']\n"
     ]
    },
    {
     "name": "stderr",
     "output_type": "stream",
     "text": [
      "C:\\Users\\Gang\\AppData\\Local\\Temp\\ipykernel_7688\\2775006806.py:27: FutureWarning: The default dtype for empty Series will be 'object' instead of 'float64' in a future version. Specify a dtype explicitly to silence this warning.\n",
      "  new_mae = pd.Series(index=excluded_models) # make a series where the index is the current excluded_models\n"
     ]
    },
    {
     "name": "stdout",
     "output_type": "stream",
     "text": [
      "Starting mae: -64433.445\n",
      "\n",
      "KNN score: -64449.292\n",
      "Ridge score: -65065.914\n",
      "Linear Regression score: -65060.896\n",
      "Best mae: -64449.292\n",
      "\n",
      "Linear Regression model optimized\n",
      "resulting models: ['XGB']\n",
      "MAE: -64433.445\n",
      "\n",
      "\n",
      "Running model selector for  XGB\n",
      "\n",
      "NEW ROUND - Setting up score charts\n",
      "Included models: []\n",
      "Exluded models: ['XGB', 'KNN', 'Ridge', 'Linear Regression']\n"
     ]
    },
    {
     "name": "stderr",
     "output_type": "stream",
     "text": [
      "C:\\Users\\Gang\\AppData\\Local\\Temp\\ipykernel_7688\\2775006806.py:27: FutureWarning: The default dtype for empty Series will be 'object' instead of 'float64' in a future version. Specify a dtype explicitly to silence this warning.\n",
      "  new_mae = pd.Series(index=excluded_models) # make a series where the index is the current excluded_models\n"
     ]
    },
    {
     "name": "stdout",
     "output_type": "stream",
     "text": [
      "Starting mae: -64499.895\n",
      "\n",
      "XGB score: -66437.885\n",
      "KNN score: -64622.99\n",
      "Ridge score: -64851.695\n",
      "Linear Regression score: -64432.921\n",
      "Best mae: -64432.921\n",
      "\n",
      "Add  Linear Regression with mae -64432.921\n",
      "\n",
      "\n",
      "NEW ROUND - Setting up score charts\n",
      "Included models: ['Linear Regression']\n",
      "Exluded models: ['XGB', 'KNN', 'Ridge']\n"
     ]
    },
    {
     "name": "stderr",
     "output_type": "stream",
     "text": [
      "C:\\Users\\Gang\\AppData\\Local\\Temp\\ipykernel_7688\\2775006806.py:27: FutureWarning: The default dtype for empty Series will be 'object' instead of 'float64' in a future version. Specify a dtype explicitly to silence this warning.\n",
      "  new_mae = pd.Series(index=excluded_models) # make a series where the index is the current excluded_models\n"
     ]
    },
    {
     "name": "stdout",
     "output_type": "stream",
     "text": [
      "Starting mae: -64432.921\n",
      "\n",
      "XGB score: -66938.753\n",
      "KNN score: -64518.79\n",
      "Ridge score: -64715.154\n",
      "Best mae: -64518.79\n",
      "\n",
      "XGB model optimized\n",
      "resulting models: ['Linear Regression']\n",
      "MAE: -64432.921\n"
     ]
    }
   ],
   "source": [
    "# Set up a scoring dictionary to hold the model stack selector results\n",
    "scores = {}\n",
    "scores['Model'] = []\n",
    "scores['MAE'] = []\n",
    "scores['Included'] = []\n",
    "# Run the model stack selector for each model in our trained_models\n",
    "for model in trained_models:\n",
    "    \n",
    "    meta_model = trained_models[model][0]\n",
    "    resulting_models, best_mae = model_selector(data_x, data_y,  meta_model, trained_models, model, verbose=True)\n",
    "    \n",
    "    scores['Model'].append(model)\n",
    "    scores['MAE'].append(best_mae)\n",
    "    scores['Included'].append(resulting_models)"
   ]
  },
  {
   "cell_type": "code",
   "execution_count": 17,
   "id": "9e1cfbfe",
   "metadata": {},
   "outputs": [
    {
     "data": {
      "text/plain": [
       "{'Model': ['Ridge', 'KNN', 'Linear Regression', 'XGB'],\n",
       " 'MAE': [-64370.612, -67353.509, -64433.445, -64432.921],\n",
       " 'Included': [['XGB', 'Ridge'], ['XGB'], ['XGB'], ['Linear Regression']]}"
      ]
     },
     "execution_count": 17,
     "metadata": {},
     "output_type": "execute_result"
    }
   ],
   "source": [
    "scores"
   ]
  },
  {
   "cell_type": "code",
   "execution_count": 15,
   "id": "79f400bf",
   "metadata": {},
   "outputs": [
    {
     "data": {
      "text/html": [
       "<div>\n",
       "<style scoped>\n",
       "    .dataframe tbody tr th:only-of-type {\n",
       "        vertical-align: middle;\n",
       "    }\n",
       "\n",
       "    .dataframe tbody tr th {\n",
       "        vertical-align: top;\n",
       "    }\n",
       "\n",
       "    .dataframe thead th {\n",
       "        text-align: right;\n",
       "    }\n",
       "</style>\n",
       "<table border=\"1\" class=\"dataframe\">\n",
       "  <thead>\n",
       "    <tr style=\"text-align: right;\">\n",
       "      <th></th>\n",
       "      <th>Model</th>\n",
       "      <th>MAE</th>\n",
       "      <th>Included</th>\n",
       "    </tr>\n",
       "  </thead>\n",
       "  <tbody>\n",
       "    <tr>\n",
       "      <th>0</th>\n",
       "      <td>Ridge</td>\n",
       "      <td>-64370.612</td>\n",
       "      <td>[XGB, Ridge]</td>\n",
       "    </tr>\n",
       "    <tr>\n",
       "      <th>3</th>\n",
       "      <td>XGB</td>\n",
       "      <td>-64432.921</td>\n",
       "      <td>[Linear Regression]</td>\n",
       "    </tr>\n",
       "    <tr>\n",
       "      <th>2</th>\n",
       "      <td>Linear Regression</td>\n",
       "      <td>-64433.445</td>\n",
       "      <td>[XGB]</td>\n",
       "    </tr>\n",
       "    <tr>\n",
       "      <th>1</th>\n",
       "      <td>KNN</td>\n",
       "      <td>-67353.509</td>\n",
       "      <td>[XGB]</td>\n",
       "    </tr>\n",
       "  </tbody>\n",
       "</table>\n",
       "</div>"
      ],
      "text/plain": [
       "               Model        MAE             Included\n",
       "0              Ridge -64370.612         [XGB, Ridge]\n",
       "3                XGB -64432.921  [Linear Regression]\n",
       "2  Linear Regression -64433.445                [XGB]\n",
       "1                KNN -67353.509                [XGB]"
      ]
     },
     "execution_count": 15,
     "metadata": {},
     "output_type": "execute_result"
    }
   ],
   "source": [
    "# Look at the scores of our model combinations\n",
    "best_model = pd.DataFrame(scores).reset_index(drop=True)\n",
    "best_model.sort_values('MAE', ascending=False)"
   ]
  },
  {
   "cell_type": "code",
   "execution_count": 26,
   "id": "f6292453",
   "metadata": {},
   "outputs": [
    {
     "name": "stdout",
     "output_type": "stream",
     "text": [
      "MAE:  67260\n",
      "RMSE: 129894\n",
      "('R2:', 87.27728795793273)\n"
     ]
    }
   ],
   "source": [
    "# Check our meta model on the original train/test set only\n",
    "# Instantiate the chosen meta model\n",
    "\n",
    "from sklearn.metrics import mean_absolute_error\n",
    "from sklearn.metrics import mean_squared_error\n",
    "from sklearn.metrics import r2_score\n",
    "\n",
    "# meta_model =  Ridge(random_state = randomstate, tol=1e-3, solver='auto')\n",
    "meta_model = xgb.XGBRegressor(n_estimators=1000, eval_metric='mae', max_depth = 7,eta = .1, min_child_weight = 5, \n",
    "                        colsample_bytree = .4, reg_lambda = 50)\n",
    "\n",
    "meta_model.fit(X_train, y_train)\n",
    "predictions = meta_model.predict(X_test)\n",
    "# pred_exp = np.exp(predictions)\n",
    "# actual = np.exp(y_test)\n",
    "\n",
    "pred_exp = predictions\n",
    "actual = y_test\n",
    "\n",
    "print(\"MAE: \",int(mean_absolute_error(pred_exp, actual)))\n",
    "print(\"RMSE:\",int(np.sqrt(mean_squared_error(pred_exp, actual))))\n",
    "print((\"R2:\",r2_score(pred_exp, actual)*100))"
   ]
  },
  {
   "cell_type": "code",
   "execution_count": 43,
   "id": "d6c0bd8a",
   "metadata": {},
   "outputs": [
    {
     "name": "stdout",
     "output_type": "stream",
     "text": [
      "Fitting Models\n"
     ]
    },
    {
     "data": {
      "text/html": [
       "<style>#sk-container-id-3 {color: black;}#sk-container-id-3 pre{padding: 0;}#sk-container-id-3 div.sk-toggleable {background-color: white;}#sk-container-id-3 label.sk-toggleable__label {cursor: pointer;display: block;width: 100%;margin-bottom: 0;padding: 0.3em;box-sizing: border-box;text-align: center;}#sk-container-id-3 label.sk-toggleable__label-arrow:before {content: \"▸\";float: left;margin-right: 0.25em;color: #696969;}#sk-container-id-3 label.sk-toggleable__label-arrow:hover:before {color: black;}#sk-container-id-3 div.sk-estimator:hover label.sk-toggleable__label-arrow:before {color: black;}#sk-container-id-3 div.sk-toggleable__content {max-height: 0;max-width: 0;overflow: hidden;text-align: left;background-color: #f0f8ff;}#sk-container-id-3 div.sk-toggleable__content pre {margin: 0.2em;color: black;border-radius: 0.25em;background-color: #f0f8ff;}#sk-container-id-3 input.sk-toggleable__control:checked~div.sk-toggleable__content {max-height: 200px;max-width: 100%;overflow: auto;}#sk-container-id-3 input.sk-toggleable__control:checked~label.sk-toggleable__label-arrow:before {content: \"▾\";}#sk-container-id-3 div.sk-estimator input.sk-toggleable__control:checked~label.sk-toggleable__label {background-color: #d4ebff;}#sk-container-id-3 div.sk-label input.sk-toggleable__control:checked~label.sk-toggleable__label {background-color: #d4ebff;}#sk-container-id-3 input.sk-hidden--visually {border: 0;clip: rect(1px 1px 1px 1px);clip: rect(1px, 1px, 1px, 1px);height: 1px;margin: -1px;overflow: hidden;padding: 0;position: absolute;width: 1px;}#sk-container-id-3 div.sk-estimator {font-family: monospace;background-color: #f0f8ff;border: 1px dotted black;border-radius: 0.25em;box-sizing: border-box;margin-bottom: 0.5em;}#sk-container-id-3 div.sk-estimator:hover {background-color: #d4ebff;}#sk-container-id-3 div.sk-parallel-item::after {content: \"\";width: 100%;border-bottom: 1px solid gray;flex-grow: 1;}#sk-container-id-3 div.sk-label:hover label.sk-toggleable__label {background-color: #d4ebff;}#sk-container-id-3 div.sk-serial::before {content: \"\";position: absolute;border-left: 1px solid gray;box-sizing: border-box;top: 0;bottom: 0;left: 50%;z-index: 0;}#sk-container-id-3 div.sk-serial {display: flex;flex-direction: column;align-items: center;background-color: white;padding-right: 0.2em;padding-left: 0.2em;position: relative;}#sk-container-id-3 div.sk-item {position: relative;z-index: 1;}#sk-container-id-3 div.sk-parallel {display: flex;align-items: stretch;justify-content: center;background-color: white;position: relative;}#sk-container-id-3 div.sk-item::before, #sk-container-id-3 div.sk-parallel-item::before {content: \"\";position: absolute;border-left: 1px solid gray;box-sizing: border-box;top: 0;bottom: 0;left: 50%;z-index: -1;}#sk-container-id-3 div.sk-parallel-item {display: flex;flex-direction: column;z-index: 1;position: relative;background-color: white;}#sk-container-id-3 div.sk-parallel-item:first-child::after {align-self: flex-end;width: 50%;}#sk-container-id-3 div.sk-parallel-item:last-child::after {align-self: flex-start;width: 50%;}#sk-container-id-3 div.sk-parallel-item:only-child::after {width: 0;}#sk-container-id-3 div.sk-dashed-wrapped {border: 1px dashed gray;margin: 0 0.4em 0.5em 0.4em;box-sizing: border-box;padding-bottom: 0.4em;background-color: white;}#sk-container-id-3 div.sk-label label {font-family: monospace;font-weight: bold;display: inline-block;line-height: 1.2em;}#sk-container-id-3 div.sk-label-container {text-align: center;}#sk-container-id-3 div.sk-container {/* jupyter's `normalize.less` sets `[hidden] { display: none; }` but bootstrap.min.css set `[hidden] { display: none !important; }` so we also need the `!important` here to be able to override the default hidden behavior on the sphinx rendered scikit-learn.org. See: https://github.com/scikit-learn/scikit-learn/issues/21755 */display: inline-block !important;position: relative;}#sk-container-id-3 div.sk-text-repr-fallback {display: none;}</style><div id=\"sk-container-id-3\" class=\"sk-top-container\"><div class=\"sk-text-repr-fallback\"><pre>Ridge(random_state=42, tol=0.001)</pre><b>In a Jupyter environment, please rerun this cell to show the HTML representation or trust the notebook. <br />On GitHub, the HTML representation is unable to render, please try loading this page with nbviewer.org.</b></div><div class=\"sk-container\" hidden><div class=\"sk-item\"><div class=\"sk-estimator sk-toggleable\"><input class=\"sk-toggleable__control sk-hidden--visually\" id=\"sk-estimator-id-3\" type=\"checkbox\" checked><label for=\"sk-estimator-id-3\" class=\"sk-toggleable__label sk-toggleable__label-arrow\">Ridge</label><div class=\"sk-toggleable__content\"><pre>Ridge(random_state=42, tol=0.001)</pre></div></div></div></div></div>"
      ],
      "text/plain": [
       "Ridge(random_state=42, tol=0.001)"
      ]
     },
     "execution_count": 43,
     "metadata": {},
     "output_type": "execute_result"
    }
   ],
   "source": [
    "print(\"Fitting Models\")\n",
    "xgbr.fit(X_train, y_train)\n",
    "ridge.fit(X_train, y_train)"
   ]
  },
  {
   "cell_type": "code",
   "execution_count": 44,
   "id": "5c6b86f9",
   "metadata": {},
   "outputs": [],
   "source": [
    "yhat_predics = [trained_models['XGB'][1], trained_models['Ridge'][1]]"
   ]
  },
  {
   "cell_type": "code",
   "execution_count": 45,
   "id": "8b67b320",
   "metadata": {},
   "outputs": [],
   "source": [
    "def create_meta_dataset(data_x, items):\n",
    "    '''Function that takes in a data set and list of predictions, and forges into one dataset\n",
    "    parameters:\n",
    "    data_x - original data set\n",
    "    items - list of predictions\n",
    "    returns: stacked data set\n",
    "    '''\n",
    "    \n",
    "    meta_x = data_x\n",
    "    \n",
    "    for z in items:\n",
    "        z = np.array(z).reshape((len(z), 1))\n",
    "        meta_x = np.hstack((meta_x, z))\n",
    "        \n",
    "    return meta_x"
   ]
  },
  {
   "cell_type": "code",
   "execution_count": 46,
   "id": "862220a0",
   "metadata": {},
   "outputs": [],
   "source": [
    "# create the meta data set using the oof predictions\n",
    "meta_X_train = create_meta_dataset(data_x, yhat_predics)"
   ]
  },
  {
   "cell_type": "code",
   "execution_count": 53,
   "id": "fb616972",
   "metadata": {},
   "outputs": [],
   "source": [
    "final_models = [xgbr, ridge]"
   ]
  },
  {
   "cell_type": "code",
   "execution_count": 48,
   "id": "a982e874",
   "metadata": {},
   "outputs": [],
   "source": [
    "def stack_prediction(X_test, final_models): \n",
    "    '''takes in a test set and a list of fitted models.\n",
    "    Fits each model in the list on the test set and stores it in a predictions list. Then sends the test set and the predictions to the create_meta_dataset to be combined\n",
    "    Returns: combined meta test set\n",
    "    Parameters:\n",
    "    X_test - testing dataset\n",
    "    final_models - list of fitted models\n",
    "    '''\n",
    "    predictions = []\n",
    "    \n",
    "    for item in final_models:\n",
    "        print(item)\n",
    "        preds = item.predict(X_test).reshape(-1,1)\n",
    "        predictions.append(preds)\n",
    "    \n",
    "    meta_X = create_meta_dataset(X_test, predictions)\n",
    "        \n",
    "    return meta_X"
   ]
  },
  {
   "cell_type": "code",
   "execution_count": 49,
   "id": "364a4e8b",
   "metadata": {},
   "outputs": [
    {
     "data": {
      "text/plain": [
       "[XGBRegressor(base_score=None, booster=None, callbacks=None,\n",
       "              colsample_bylevel=None, colsample_bynode=None,\n",
       "              colsample_bytree=0.4, early_stopping_rounds=None,\n",
       "              enable_categorical=False, eta=0.1, eval_metric='mae',\n",
       "              feature_types=None, gamma=None, gpu_id=None, grow_policy=None,\n",
       "              importance_type=None, interaction_constraints=None,\n",
       "              learning_rate=None, max_bin=None, max_cat_threshold=None,\n",
       "              max_cat_to_onehot=None, max_delta_step=None, max_depth=7,\n",
       "              max_leaves=None, min_child_weight=5, missing=nan,\n",
       "              monotone_constraints=None, n_estimators=1000, n_jobs=None,\n",
       "              num_parallel_tree=None, predictor=None, ...),\n",
       " sklearn.linear_model._ridge.Ridge]"
      ]
     },
     "execution_count": 49,
     "metadata": {},
     "output_type": "execute_result"
    }
   ],
   "source": [
    "final_models"
   ]
  },
  {
   "cell_type": "code",
   "execution_count": 54,
   "id": "8224da31",
   "metadata": {},
   "outputs": [
    {
     "data": {
      "text/plain": [
       "array([ 462273.95632038,  748176.32004847, 1239464.50520646, ...,\n",
       "        535675.25812558,  468373.17571305,  330218.07853849])"
      ]
     },
     "execution_count": 54,
     "metadata": {},
     "output_type": "execute_result"
    }
   ],
   "source": [
    "final_models[1].predict(X_test)"
   ]
  },
  {
   "cell_type": "code",
   "execution_count": 55,
   "id": "553f62ce",
   "metadata": {},
   "outputs": [
    {
     "name": "stdout",
     "output_type": "stream",
     "text": [
      "XGBRegressor(base_score=None, booster=None, callbacks=None,\n",
      "             colsample_bylevel=None, colsample_bynode=None,\n",
      "             colsample_bytree=0.4, early_stopping_rounds=None,\n",
      "             enable_categorical=False, eta=0.1, eval_metric='mae',\n",
      "             feature_types=None, gamma=None, gpu_id=None, grow_policy=None,\n",
      "             importance_type=None, interaction_constraints=None,\n",
      "             learning_rate=None, max_bin=None, max_cat_threshold=None,\n",
      "             max_cat_to_onehot=None, max_delta_step=None, max_depth=7,\n",
      "             max_leaves=None, min_child_weight=5, missing=nan,\n",
      "             monotone_constraints=None, n_estimators=1000, n_jobs=None,\n",
      "             num_parallel_tree=None, predictor=None, ...)\n",
      "Ridge(random_state=42, tol=0.001)\n"
     ]
    }
   ],
   "source": [
    "meta_X_test = stack_prediction(X_test, final_models)"
   ]
  },
  {
   "cell_type": "code",
   "execution_count": 42,
   "id": "3a8f94ca",
   "metadata": {},
   "outputs": [
    {
     "data": {
      "text/html": [
       "<style>#sk-container-id-2 {color: black;}#sk-container-id-2 pre{padding: 0;}#sk-container-id-2 div.sk-toggleable {background-color: white;}#sk-container-id-2 label.sk-toggleable__label {cursor: pointer;display: block;width: 100%;margin-bottom: 0;padding: 0.3em;box-sizing: border-box;text-align: center;}#sk-container-id-2 label.sk-toggleable__label-arrow:before {content: \"▸\";float: left;margin-right: 0.25em;color: #696969;}#sk-container-id-2 label.sk-toggleable__label-arrow:hover:before {color: black;}#sk-container-id-2 div.sk-estimator:hover label.sk-toggleable__label-arrow:before {color: black;}#sk-container-id-2 div.sk-toggleable__content {max-height: 0;max-width: 0;overflow: hidden;text-align: left;background-color: #f0f8ff;}#sk-container-id-2 div.sk-toggleable__content pre {margin: 0.2em;color: black;border-radius: 0.25em;background-color: #f0f8ff;}#sk-container-id-2 input.sk-toggleable__control:checked~div.sk-toggleable__content {max-height: 200px;max-width: 100%;overflow: auto;}#sk-container-id-2 input.sk-toggleable__control:checked~label.sk-toggleable__label-arrow:before {content: \"▾\";}#sk-container-id-2 div.sk-estimator input.sk-toggleable__control:checked~label.sk-toggleable__label {background-color: #d4ebff;}#sk-container-id-2 div.sk-label input.sk-toggleable__control:checked~label.sk-toggleable__label {background-color: #d4ebff;}#sk-container-id-2 input.sk-hidden--visually {border: 0;clip: rect(1px 1px 1px 1px);clip: rect(1px, 1px, 1px, 1px);height: 1px;margin: -1px;overflow: hidden;padding: 0;position: absolute;width: 1px;}#sk-container-id-2 div.sk-estimator {font-family: monospace;background-color: #f0f8ff;border: 1px dotted black;border-radius: 0.25em;box-sizing: border-box;margin-bottom: 0.5em;}#sk-container-id-2 div.sk-estimator:hover {background-color: #d4ebff;}#sk-container-id-2 div.sk-parallel-item::after {content: \"\";width: 100%;border-bottom: 1px solid gray;flex-grow: 1;}#sk-container-id-2 div.sk-label:hover label.sk-toggleable__label {background-color: #d4ebff;}#sk-container-id-2 div.sk-serial::before {content: \"\";position: absolute;border-left: 1px solid gray;box-sizing: border-box;top: 0;bottom: 0;left: 50%;z-index: 0;}#sk-container-id-2 div.sk-serial {display: flex;flex-direction: column;align-items: center;background-color: white;padding-right: 0.2em;padding-left: 0.2em;position: relative;}#sk-container-id-2 div.sk-item {position: relative;z-index: 1;}#sk-container-id-2 div.sk-parallel {display: flex;align-items: stretch;justify-content: center;background-color: white;position: relative;}#sk-container-id-2 div.sk-item::before, #sk-container-id-2 div.sk-parallel-item::before {content: \"\";position: absolute;border-left: 1px solid gray;box-sizing: border-box;top: 0;bottom: 0;left: 50%;z-index: -1;}#sk-container-id-2 div.sk-parallel-item {display: flex;flex-direction: column;z-index: 1;position: relative;background-color: white;}#sk-container-id-2 div.sk-parallel-item:first-child::after {align-self: flex-end;width: 50%;}#sk-container-id-2 div.sk-parallel-item:last-child::after {align-self: flex-start;width: 50%;}#sk-container-id-2 div.sk-parallel-item:only-child::after {width: 0;}#sk-container-id-2 div.sk-dashed-wrapped {border: 1px dashed gray;margin: 0 0.4em 0.5em 0.4em;box-sizing: border-box;padding-bottom: 0.4em;background-color: white;}#sk-container-id-2 div.sk-label label {font-family: monospace;font-weight: bold;display: inline-block;line-height: 1.2em;}#sk-container-id-2 div.sk-label-container {text-align: center;}#sk-container-id-2 div.sk-container {/* jupyter's `normalize.less` sets `[hidden] { display: none; }` but bootstrap.min.css set `[hidden] { display: none !important; }` so we also need the `!important` here to be able to override the default hidden behavior on the sphinx rendered scikit-learn.org. See: https://github.com/scikit-learn/scikit-learn/issues/21755 */display: inline-block !important;position: relative;}#sk-container-id-2 div.sk-text-repr-fallback {display: none;}</style><div id=\"sk-container-id-2\" class=\"sk-top-container\"><div class=\"sk-text-repr-fallback\"><pre>XGBRegressor(base_score=None, booster=None, callbacks=None,\n",
       "             colsample_bylevel=None, colsample_bynode=None,\n",
       "             colsample_bytree=0.4, early_stopping_rounds=None,\n",
       "             enable_categorical=False, eta=0.1, eval_metric=&#x27;mae&#x27;,\n",
       "             feature_types=None, gamma=None, gpu_id=None, grow_policy=None,\n",
       "             importance_type=None, interaction_constraints=None,\n",
       "             learning_rate=None, max_bin=None, max_cat_threshold=None,\n",
       "             max_cat_to_onehot=None, max_delta_step=None, max_depth=7,\n",
       "             max_leaves=None, min_child_weight=5, missing=nan,\n",
       "             monotone_constraints=None, n_estimators=1000, n_jobs=None,\n",
       "             num_parallel_tree=None, predictor=None, ...)</pre><b>In a Jupyter environment, please rerun this cell to show the HTML representation or trust the notebook. <br />On GitHub, the HTML representation is unable to render, please try loading this page with nbviewer.org.</b></div><div class=\"sk-container\" hidden><div class=\"sk-item\"><div class=\"sk-estimator sk-toggleable\"><input class=\"sk-toggleable__control sk-hidden--visually\" id=\"sk-estimator-id-2\" type=\"checkbox\" checked><label for=\"sk-estimator-id-2\" class=\"sk-toggleable__label sk-toggleable__label-arrow\">XGBRegressor</label><div class=\"sk-toggleable__content\"><pre>XGBRegressor(base_score=None, booster=None, callbacks=None,\n",
       "             colsample_bylevel=None, colsample_bynode=None,\n",
       "             colsample_bytree=0.4, early_stopping_rounds=None,\n",
       "             enable_categorical=False, eta=0.1, eval_metric=&#x27;mae&#x27;,\n",
       "             feature_types=None, gamma=None, gpu_id=None, grow_policy=None,\n",
       "             importance_type=None, interaction_constraints=None,\n",
       "             learning_rate=None, max_bin=None, max_cat_threshold=None,\n",
       "             max_cat_to_onehot=None, max_delta_step=None, max_depth=7,\n",
       "             max_leaves=None, min_child_weight=5, missing=nan,\n",
       "             monotone_constraints=None, n_estimators=1000, n_jobs=None,\n",
       "             num_parallel_tree=None, predictor=None, ...)</pre></div></div></div></div></div>"
      ],
      "text/plain": [
       "XGBRegressor(base_score=None, booster=None, callbacks=None,\n",
       "             colsample_bylevel=None, colsample_bynode=None,\n",
       "             colsample_bytree=0.4, early_stopping_rounds=None,\n",
       "             enable_categorical=False, eta=0.1, eval_metric='mae',\n",
       "             feature_types=None, gamma=None, gpu_id=None, grow_policy=None,\n",
       "             importance_type=None, interaction_constraints=None,\n",
       "             learning_rate=None, max_bin=None, max_cat_threshold=None,\n",
       "             max_cat_to_onehot=None, max_delta_step=None, max_depth=7,\n",
       "             max_leaves=None, min_child_weight=5, missing=nan,\n",
       "             monotone_constraints=None, n_estimators=1000, n_jobs=None,\n",
       "             num_parallel_tree=None, predictor=None, ...)"
      ]
     },
     "execution_count": 42,
     "metadata": {},
     "output_type": "execute_result"
    }
   ],
   "source": [
    "meta_model"
   ]
  },
  {
   "cell_type": "code",
   "execution_count": 57,
   "id": "4e37f7fa",
   "metadata": {},
   "outputs": [
    {
     "name": "stdout",
     "output_type": "stream",
     "text": [
      "MAE:  65850\n",
      "RMSE: 127566\n",
      "('R2:', 88.1856146658057)\n"
     ]
    }
   ],
   "source": [
    "# fit the meta model to the Train meta dataset\n",
    "# There is no data leakage in the meta dataset since we did all of our predictions out-of-sample!\n",
    "meta_model.fit(meta_X_train, data_y)\n",
    "# predict on the meta test set\n",
    "predictions = meta_model.predict(meta_X_test)\n",
    "# pred_exp = np.exp(predictions)\n",
    "# actual = np.exp(y_test)\n",
    "\n",
    "pred_exp = predictions\n",
    "actual = y_test\n",
    "print(\"MAE: \",int(mean_absolute_error(pred_exp, actual)))\n",
    "print(\"RMSE:\",int(np.sqrt(mean_squared_error(pred_exp, actual))))\n",
    "print((\"R2:\",r2_score(pred_exp, actual)*100))"
   ]
  },
  {
   "cell_type": "code",
   "execution_count": 58,
   "id": "44264c4b",
   "metadata": {},
   "outputs": [
    {
     "data": {
      "text/plain": [
       "0.02096342551293488"
      ]
     },
     "execution_count": 58,
     "metadata": {},
     "output_type": "execute_result"
    }
   ],
   "source": [
    "(67260-65850)/67260"
   ]
  },
  {
   "cell_type": "code",
   "execution_count": 60,
   "id": "c65a49fe",
   "metadata": {},
   "outputs": [
    {
     "data": {
      "text/plain": [
       "0.04296758846268213"
      ]
     },
     "execution_count": 60,
     "metadata": {},
     "output_type": "execute_result"
    }
   ],
   "source": [
    "(67260-64370)/67260"
   ]
  },
  {
   "cell_type": "code",
   "execution_count": null,
   "id": "3e3a4569",
   "metadata": {},
   "outputs": [],
   "source": []
  }
 ],
 "metadata": {
  "kernelspec": {
   "display_name": "Python 3 (ipykernel)",
   "language": "python",
   "name": "python3"
  },
  "language_info": {
   "codemirror_mode": {
    "name": "ipython",
    "version": 3
   },
   "file_extension": ".py",
   "mimetype": "text/x-python",
   "name": "python",
   "nbconvert_exporter": "python",
   "pygments_lexer": "ipython3",
   "version": "3.11.4"
  }
 },
 "nbformat": 4,
 "nbformat_minor": 5
}
